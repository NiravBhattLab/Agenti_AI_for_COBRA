{
 "cells": [
  {
   "cell_type": "code",
   "execution_count": 10,
   "id": "b1a8903e",
   "metadata": {},
   "outputs": [],
   "source": [
    "from models import ModelManager\n",
    "modelm = ModelManager()\n",
    "modelm.load_model_by_id('e_coli_core')\n",
    "model = modelm.get_current_model()"
   ]
  },
  {
   "cell_type": "markdown",
   "id": "cebb60c9",
   "metadata": {},
   "source": [
    "#### Set Objective for Model"
   ]
  },
  {
   "cell_type": "code",
   "execution_count": 2,
   "id": "ddb07066",
   "metadata": {},
   "outputs": [
    {
     "name": "stdout",
     "output_type": "stream",
     "text": [
      "[<Reaction MATP at 0x19365172bf0>, <Reaction TRANS1 at 0x19365172d40>, <Reaction TRANS2 at 0x19365173010>, <Reaction TRANS3 at 0x19365173190>, <Reaction TRANS4 at 0x19365173340>, <Reaction TRANS5 at 0x193651734f0>, <Reaction TRANS6 at 0x193651736a0>, <Reaction TRANS7 at 0x19365173850>, <Reaction TRANS8 at 0x19365173a00>, <Reaction TRANS9 at 0x19365173bb0>]\n"
     ]
    }
   ],
   "source": [
    "from models import ModelManager\n",
    "modelm = ModelManager()\n",
    "modelm.load_model_by_id('MODEL1507180061')\n",
    "model = modelm.get_current_model()\n",
    "print(model.reactions[:10])"
   ]
  },
  {
   "cell_type": "markdown",
   "id": "f3181fae",
   "metadata": {},
   "source": [
    "Testing\n"
   ]
  },
  {
   "cell_type": "code",
   "execution_count": 2,
   "id": "8ae9f86f",
   "metadata": {},
   "outputs": [],
   "source": [
    "from cobra.io import read_sbml_model\n",
    "model = read_sbml_model(r\"E:\\INTERNSHIP\\IITM\\metabolic\\uploads\\e_coli_core.xml\")"
   ]
  },
  {
   "cell_type": "code",
   "execution_count": 3,
   "id": "102e0851",
   "metadata": {},
   "outputs": [
    {
     "name": "stdout",
     "output_type": "stream",
     "text": [
      "Maximize\n",
      "1.0*BIOMASS_Ecoli_core_w_GAM - 1.0*BIOMASS_Ecoli_core_w_GAM_reverse_712e5\n",
      "1.0*BIOMASS_Ecoli_core_w_GAM - 1.0*BIOMASS_Ecoli_core_w_GAM_reverse_712e5\n"
     ]
    }
   ],
   "source": [
    "print(model.objective)\n",
    "print(model.objective.expression)"
   ]
  },
  {
   "cell_type": "code",
   "execution_count": 4,
   "id": "349f897b",
   "metadata": {},
   "outputs": [
    {
     "data": {
      "text/html": [
       "\n",
       "        <table>\n",
       "            <tr>\n",
       "                <td><strong>Reaction identifier</strong></td><td>BIOMASS_Ecoli_core_w_GAM</td>\n",
       "            </tr><tr>\n",
       "                <td><strong>Name</strong></td><td>Biomass Objective Function with GAM</td>\n",
       "            </tr><tr>\n",
       "                <td><strong>Memory address</strong></td>\n",
       "                <td>0x1b904e7da20</td>\n",
       "            </tr><tr>\n",
       "                <td><strong>Stoichiometry</strong></td>\n",
       "                <td>\n",
       "                    <p style='text-align:right'>1.496 3pg_c + 3.7478 accoa_c + 59.81 atp_c + 0.361 e4p_c + 0.0709 f6p_c + 0.129 g3p_c + 0.205 g6p_c + 0.2557 gln__L_c + 4.9414 glu__L_c + 59.81 h2o_c + 3.547 nad_c + 13.0279 nadph_c + 1.7867 oaa_c...</p>\n",
       "                    <p style='text-align:right'>1.496 3-Phospho-D-glycerate + 3.7478 Acetyl-CoA + 59.81 ATP C10H12N5O13P3 + 0.361 D-Erythrose 4-phosphate + 0.0709 D-Fructose 6-phosphate + 0.129 Glyceraldehyde 3-phosphate + 0.205 D-Glucose...</p>\n",
       "                </td>\n",
       "            </tr><tr>\n",
       "                <td><strong>GPR</strong></td><td></td>\n",
       "            </tr><tr>\n",
       "                <td><strong>Lower bound</strong></td><td>0.0</td>\n",
       "            </tr><tr>\n",
       "                <td><strong>Upper bound</strong></td><td>1000.0</td>\n",
       "            </tr>\n",
       "        </table>\n",
       "        "
      ],
      "text/plain": [
       "<Reaction BIOMASS_Ecoli_core_w_GAM at 0x1b904e7da20>"
      ]
     },
     "execution_count": 4,
     "metadata": {},
     "output_type": "execute_result"
    }
   ],
   "source": [
    "model.reactions.get_by_id(\"BIOMASS_Ecoli_core_w_GAM\")"
   ]
  },
  {
   "cell_type": "code",
   "execution_count": 32,
   "id": "7519197e",
   "metadata": {},
   "outputs": [
    {
     "name": "stdout",
     "output_type": "stream",
     "text": [
      "BIOMASS_Ecoli_core_w_GAM\n"
     ]
    }
   ],
   "source": [
    "for rxn in model.reactions:\n",
    "    if \"BIOMASS\" in rxn.id:\n",
    "        print(rxn.id)"
   ]
  },
  {
   "cell_type": "code",
   "execution_count": 11,
   "id": "3be57f19",
   "metadata": {},
   "outputs": [
    {
     "name": "stdout",
     "output_type": "stream",
     "text": [
      "{<Reaction ATPM at 0x1b904e4b400>: 1.0, <Reaction EX_o2_e at 0x1b904ec0bb0>: -0.5}\n"
     ]
    }
   ],
   "source": [
    "# SET OBJECTIVE\n",
    "model.objective = model.reactions.get_by_id(\"BIOMASS_Ecoli_core_w_GAM\") # RXN Object\n",
    "model.objective = \"BIOMASS_Ecoli_core_w_GAM\" # RXN String\n",
    "\n",
    "# SET CUSTOM OBJECTIVE\n",
    "objective_dict = {\n",
    "    model.reactions.get_by_id(\"ATPM\"): 1.0,\n",
    "    model.reactions.get_by_id(\"EX_o2_e\"): -0.5,\n",
    "}\n",
    "model.objective = objective_dict\n",
    "\n",
    "print(objective_dict)\n",
    "\n",
    "# SET DIRECTION\n",
    "model.objective.direction = \"max\"\n",
    "model.objective.direction = \"min\""
   ]
  },
  {
   "cell_type": "code",
   "execution_count": 15,
   "id": "a8db88cb",
   "metadata": {},
   "outputs": [
    {
     "data": {
      "text/plain": [
       "{<Reaction ATPM at 0x20beddd2cb0>: 1.0,\n",
       " <Reaction EX_o2_e at 0x20bede481c0>: -0.5}"
      ]
     },
     "execution_count": 15,
     "metadata": {},
     "output_type": "execute_result"
    }
   ],
   "source": [
    "from cobra.util.solver import linear_reaction_coefficients\n",
    "coeffs = linear_reaction_coefficients(model)\n",
    "coeffs"
   ]
  },
  {
   "cell_type": "markdown",
   "id": "689cb64e",
   "metadata": {},
   "source": [
    "Task Tool"
   ]
  },
  {
   "cell_type": "code",
   "execution_count": null,
   "id": "82cf4c7c",
   "metadata": {},
   "outputs": [
    {
     "name": "stdout",
     "output_type": "stream",
     "text": [
      "Maximize\n",
      "1.0*BIOMASS_Ecoli_core_w_GAM - 1.0*BIOMASS_Ecoli_core_w_GAM_reverse_712e5\n"
     ]
    }
   ],
   "source": [
    "model.objective = {\n",
    "    model.reactions.get_by_id(\"ATPM\"): 1.0,\n",
    "    model.reactions.get_by_id(\"EX_o2_e\"): -0.5,\n",
    "}\n",
    "model.objective.direction = \"max\"\n",
    "print(model.objective)"
   ]
  },
  {
   "cell_type": "code",
   "execution_count": null,
   "id": "5871f5c1",
   "metadata": {},
   "outputs": [],
   "source": [
    "# HAVE A DICTIONARY FOR STORING THE { RXN ID: COEFF } IN THE MODEL MANAGER.\n",
    "# UPON USER'S REQUEST KEEP ADDING BASED ON THIS.\n",
    "# DIRECTION SETTING MUST ALSO BE TAKEN CARE OF.\n",
    "# THEN CALL SOLUTION\n",
    "\n",
    "# OR HAVE THE USERS ENTER DATA INTO THE UI OF THE APP AND MODEL IT."
   ]
  },
  {
   "cell_type": "code",
   "execution_count": null,
   "id": "a0d2f937",
   "metadata": {},
   "outputs": [],
   "source": [
    "def set_model_objective(objective_dict: dict[str: int], direction=\"max\") -> dict[str:str]:\n",
    "    try:\n",
    "        model = model_manager.get_current_model()\n",
    "        model.objective.set_linear_coefficients(objective_dict)\n",
    "        model.objective.direction = direction\n",
    "\n",
    "        # Return confirmation\n",
    "        return {\n",
    "            \"status\": \"Objective set successfully.\",\n",
    "            \"objective\": model.objective.expression,\n",
    "            \"direction\": model.objective.direction\n",
    "        }\n",
    "\n",
    "    except Exception as e:\n",
    "        return {\"error\": str(e)}\n",
    "\n"
   ]
  },
  {
   "cell_type": "markdown",
   "id": "9aefcd96",
   "metadata": {},
   "source": [
    "FVA Simulation"
   ]
  },
  {
   "cell_type": "code",
   "execution_count": 3,
   "id": "ae1592e4",
   "metadata": {},
   "outputs": [
    {
     "name": "stdout",
     "output_type": "stream",
     "text": [
      "Phosphofructokinase\n",
      "Pyruvate formate lyase\n",
      "Glucose-6-phosphate isomerase\n",
      "Phosphoglycerate kinase\n",
      "6-phosphogluconolactonase\n",
      "Acetaldehyde dehydrogenase (acetylating)\n"
     ]
    }
   ],
   "source": [
    "from cobra.flux_analysis import flux_variability_analysis\n",
    "# type(flux_variability_analysis(model, model.reactions[:10]))\n",
    "for i in range(6):\n",
    "    print(model.reactions[i].name)"
   ]
  },
  {
   "cell_type": "code",
   "execution_count": 8,
   "id": "81e0772f",
   "metadata": {},
   "outputs": [
    {
     "data": {
      "text/plain": [
       "{'fraction_of_optimum': 0.8,\n",
       " 'fva_output': {'Reaction Name': {0: 'Phosphofructokinase',\n",
       "   1: 'Pyruvate formate lyase',\n",
       "   2: 'Glucose-6-phosphate isomerase'},\n",
       "  'Reaction ID': {0: 'PFK', 1: 'PFL', 2: 'PGI'},\n",
       "  'Maximum Flux': {0: 0.0, 1: 0.0, 2: -18.265812670359576},\n",
       "  'Minimum Flux': {0: 43.10390556972818,\n",
       "   1: 19.059968898518168,\n",
       "   2: 9.85667687285718}}}"
      ]
     },
     "execution_count": 8,
     "metadata": {},
     "output_type": "execute_result"
    }
   ],
   "source": [
    "def flux_variability_analysis_method(rxn_names, fraction_of_optimum=0.9):\n",
    "    \"\"\"\n",
    "    Runs Flux Variability Analysis (FVA) using user-provided reaction names.\n",
    "    Matches names to reactions dynamically without building a full mapping.\n",
    "    Returns a DataFrame with columns: Reaction Name, Reaction ID, Maximum Flux, Minimum Flux.\n",
    "    \"\"\"\n",
    "    try:\n",
    "        # model = model_manager.get_current_model()\n",
    "        rxn_obj_list = []\n",
    "\n",
    "        for name in rxn_names:\n",
    "            match = next(\n",
    "                (rxn for rxn in model.reactions if rxn.name.lower() == name.lower()),\n",
    "                None\n",
    "            )\n",
    "            if match is None:\n",
    "                raise ValueError(f\"Reaction name '{name}' not found in model.\")\n",
    "            rxn_obj_list.append(match)\n",
    "\n",
    "        fva_result = flux_variability_analysis(model, rxn_obj_list, fraction_of_optimum=fraction_of_optimum)\n",
    "\n",
    "        # Convert to DataFrame and include Reaction Name as the first column\n",
    "        fva_df = fva_result.reset_index()\n",
    "        fva_df.insert(0, \"Reaction Name\", [rxn.name for rxn in rxn_obj_list])\n",
    "        fva_df.columns = [\"Reaction Name\", \"Reaction ID\", \"Maximum Flux\", \"Minimum Flux\"]\n",
    "\n",
    "        return {\n",
    "            \"fraction_of_optimum\": fraction_of_optimum,\n",
    "            \"fva_output\": fva_df.to_dict()\n",
    "        }\n",
    "\n",
    "    except Exception as e:\n",
    "        return {\"error\": str(e)}\n",
    "    \n",
    "flux_variability_analysis_method(['Phosphofructokinase', 'Pyruvate formate lyase', 'Glucose-6-phosphate isomerase'], 0.8)"
   ]
  },
  {
   "cell_type": "code",
   "execution_count": null,
   "id": "a9544d62",
   "metadata": {},
   "outputs": [],
   "source": [
    "# def flux_variability_analysis_method(rxn_list, fraction_of_optimum=0.9):\n",
    "#     \"\"\"\n",
    "#     Runs Flux Variability Analysis (FVA) on the model given a Reaction List and a Fraction of Optimum (FO) Value.\n",
    "#     \"\"\"\n",
    "#     try:\n",
    "#         model = model_manager.get_current_model()\n",
    "#         rxn_obj_list = [model.reactions.get_by_id(i) for i in rxn_list]\n",
    "#         fva_dict = flux_variability_analysis(model, rxn_obj_list).to_dict()\n",
    "\n",
    "#         return {\n",
    "#             \"fraction_of_optimum\": fraction_of_optimum,\n",
    "#             \"fva_output\": fva_dict,\n",
    "#         }\n",
    "\n",
    "#     except Exception as e:\n",
    "#         return {\"error\" : str(e)}"
   ]
  },
  {
   "cell_type": "code",
   "execution_count": null,
   "id": "b7c456c8",
   "metadata": {},
   "outputs": [],
   "source": []
  },
  {
   "cell_type": "code",
   "execution_count": 7,
   "id": "5566ed88",
   "metadata": {},
   "outputs": [
    {
     "data": {
      "text/plain": [
       "{'fraction_of_optimum': 0.5,\n",
       " 'fva_csv_file': 'file://outputs\\\\fva_result_xyz.csv',\n",
       " 'fva_output': [{'Reaction Name': 'Phosphofructokinase',\n",
       "   'Reaction ID': 'PFK',\n",
       "   'Maximum Flux': 0.0,\n",
       "   'Minimum Flux': 93.90368533529579},\n",
       "  {'Reaction Name': 'Pyruvate formate lyase',\n",
       "   'Reaction ID': 'PFL',\n",
       "   'Maximum Flux': 0.0,\n",
       "   'Minimum Flux': 28.826782445182594},\n",
       "  {'Reaction Name': 'Glucose-6-phosphate isomerase',\n",
       "   'Reaction ID': 'PGI',\n",
       "   'Maximum Flux': -30.1661329189748,\n",
       "   'Minimum Flux': 9.910423045535737},\n",
       "  {'Reaction Name': 'Phosphoglycerate kinase',\n",
       "   'Reaction ID': 'PGK',\n",
       "   'Maximum Flux': -18.838427229012915,\n",
       "   'Minimum Flux': -5.479575240842752},\n",
       "  {'Reaction Name': '6-phosphogluconolactonase',\n",
       "   'Reaction ID': 'PGL',\n",
       "   'Maximum Flux': 0.0,\n",
       "   'Minimum Flux': 40.076555964510405}],\n",
       " 'message': 'FVA result has 6 entries, saved to CSV.'}"
      ]
     },
     "execution_count": 7,
     "metadata": {},
     "output_type": "execute_result"
    }
   ],
   "source": [
    "import os\n",
    "def run_fva(rxn_names, fraction_of_optimum=0.9):\n",
    "    \"\"\"\n",
    "    Runs Flux Variability Analysis (FVA) on the model given a Reaction List and a Fraction of Optimum (FO) Value.    \n",
    "    \"\"\"\n",
    "    try:\n",
    "        # model = model_manager.get_current_model()\n",
    "        rxn_obj_list = []\n",
    "\n",
    "        # if not model_manager.objective:\n",
    "        #     return {\"error\": \"No Objective Function is set for the model.\"}\n",
    "\n",
    "        for name in rxn_names:\n",
    "            match = next(\n",
    "                (rxn for rxn in model.reactions if name.lower() in rxn.name.lower()),\n",
    "                None\n",
    "            )\n",
    "            if match is None:\n",
    "                raise ValueError(f\"Reaction name '{name}' not found in model.\")\n",
    "            rxn_obj_list.append(match)\n",
    "\n",
    "        fva_result = flux_variability_analysis(model, rxn_obj_list, fraction_of_optimum=fraction_of_optimum)\n",
    "\n",
    "        fva_df = fva_result.reset_index()\n",
    "        fva_df.insert(0, \"Reaction Name\", [rxn.name for rxn in rxn_obj_list])\n",
    "        fva_df.columns = [\"Reaction Name\", \"Reaction ID\", \"Maximum Flux\", \"Minimum Flux\"]\n",
    "\n",
    "        if len(fva_df) > 5:\n",
    "            output_dir = \"outputs\"\n",
    "            os.makedirs(output_dir, exist_ok=True)\n",
    "            csv_path = os.path.join(output_dir, f\"fva_result_xyz.csv\")\n",
    "            fva_df.to_csv(csv_path, index=False)\n",
    "\n",
    "            return {\n",
    "                \"fraction_of_optimum\": fraction_of_optimum,\n",
    "                \"fva_csv_file\": f\"file://{csv_path}\",\n",
    "                \"fva_output\": fva_df.iloc[:5,:].to_dict(orient=\"records\"),\n",
    "                \"message\": f\"FVA result has {len(fva_df)} entries, saved to CSV.\"\n",
    "            }\n",
    "        else:\n",
    "            return {\n",
    "                \"fraction_of_optimum\": fraction_of_optimum,\n",
    "                \"fva_output\": fva_df.to_dict(orient=\"records\")\n",
    "            }\n",
    "\n",
    "    except Exception as e:\n",
    "        return {\"error\": str(e)}\n",
    "    \n",
    "run_fva(['Phosphofructokinase', 'Pyruvate formate lyase', 'Glucose-6-phosphate isomerase', 'Phosphoglycerate kinase', '6-phosphogluconolactonase', 'Acetaldehyde dehydrogenase'], 0.5)"
   ]
  },
  {
   "cell_type": "code",
   "execution_count": 9,
   "id": "a67ae99e",
   "metadata": {},
   "outputs": [
    {
     "name": "stdout",
     "output_type": "stream",
     "text": [
      "e:\\INTERNSHIP\\IITM\\metabolic\\outputs\\fva_result.csv\n"
     ]
    }
   ],
   "source": [
    "output_dir = os.path.join(os.getcwd(), 'outputs')\n",
    "# os.makedirs(output_dir, exist_ok=True)\n",
    "csv_path = os.path.join(output_dir, f\"fva_result.csv\")\n",
    "# fva_df.to_csv(csv_path, index=False)\n",
    "print(csv_path)"
   ]
  },
  {
   "cell_type": "markdown",
   "id": "34f62b62",
   "metadata": {},
   "source": [
    "#### TOOL TESTING"
   ]
  },
  {
   "cell_type": "code",
   "execution_count": 16,
   "id": "9449aa0b",
   "metadata": {},
   "outputs": [],
   "source": [
    "def reaction_info(rxn_name: str) -> dict:\n",
    "    \"\"\"\n",
    "    Returns information about a specific reaction in the model.\n",
    "    This function simulates fetching reaction data from a database or API.\n",
    "    \"\"\"\n",
    "    try:\n",
    "        # model = model_manager.get_current_model()\n",
    "        for rxn in model.reactions:\n",
    "            if rxn.name == rxn_name:\n",
    "                rxn_name = rxn.id\n",
    "                break\n",
    "        reaction = model.reactions.get_by_id(rxn_name)    \n",
    "        return {\n",
    "            \"Reaction id\": reaction.id,\n",
    "            \"name\": reaction.name,\n",
    "            \"Stochiometry\": reaction.build_reaction_string(),\n",
    "            \"GPR\" : str(reaction.gpr) or \"Not Set\",\n",
    "            \"lower_bound\": reaction.lower_bound,\n",
    "            \"upper_bound\": reaction.upper_bound,\n",
    "        }\n",
    "    except Exception as e:\n",
    "        return {\"error\": str(e)}"
   ]
  },
  {
   "cell_type": "code",
   "execution_count": 17,
   "id": "c0509605",
   "metadata": {},
   "outputs": [
    {
     "data": {
      "text/plain": [
       "\"['extracellular space', 'cytosol']\""
      ]
     },
     "execution_count": 17,
     "metadata": {},
     "output_type": "execute_result"
    }
   ],
   "source": [
    "str([v for k,v in model.compartments.items()])"
   ]
  },
  {
   "cell_type": "code",
   "execution_count": 18,
   "id": "87de510a",
   "metadata": {},
   "outputs": [
    {
     "data": {
      "text/plain": [
       "{'Reaction id': 'PFK',\n",
       " 'name': 'Phosphofructokinase',\n",
       " 'Stochiometry': 'atp_c + f6p_c --> adp_c + fdp_c + h_c',\n",
       " 'GPR': 'b3916 or b1723',\n",
       " 'lower_bound': 0.0,\n",
       " 'upper_bound': 1000.0}"
      ]
     },
     "execution_count": 18,
     "metadata": {},
     "output_type": "execute_result"
    }
   ],
   "source": [
    "reaction_info('Phosphofructokinase')"
   ]
  },
  {
   "cell_type": "code",
   "execution_count": 19,
   "id": "2e9655d2",
   "metadata": {},
   "outputs": [
    {
     "data": {
      "text/html": [
       "\n",
       "        <table>\n",
       "            <tr>\n",
       "                <td><strong>Gene identifier</strong></td><td>b1241</td>\n",
       "            </tr><tr>\n",
       "                <td><strong>Name</strong></td><td>adhE</td>\n",
       "            </tr><tr>\n",
       "                <td><strong>Memory address</strong></td>\n",
       "                <td>0x20bedd55180</td>\n",
       "            </tr><tr>\n",
       "                <td><strong>Functional</strong></td><td>True</td>\n",
       "            </tr><tr>\n",
       "                <td><strong>In 2 reaction(s)</strong></td><td>\n",
       "                    ALCD2x, ACALD\n",
       "                    </td>\n",
       "            </tr>\n",
       "        </table>"
      ],
      "text/plain": [
       "<Gene b1241 at 0x20bedd55180>"
      ]
     },
     "execution_count": 19,
     "metadata": {},
     "output_type": "execute_result"
    }
   ],
   "source": [
    "model.genes[0]"
   ]
  },
  {
   "cell_type": "code",
   "execution_count": 20,
   "id": "80dd8c51",
   "metadata": {},
   "outputs": [
    {
     "data": {
      "text/html": [
       "\n",
       "        <table>\n",
       "            <tr>\n",
       "                <td><strong>Reaction identifier</strong></td><td>EX_glc__D_e</td>\n",
       "            </tr><tr>\n",
       "                <td><strong>Name</strong></td><td>D-Glucose exchange</td>\n",
       "            </tr><tr>\n",
       "                <td><strong>Memory address</strong></td>\n",
       "                <td>0x20bede2bb20</td>\n",
       "            </tr><tr>\n",
       "                <td><strong>Stoichiometry</strong></td>\n",
       "                <td>\n",
       "                    <p style='text-align:right'>glc__D_e <=></p>\n",
       "                    <p style='text-align:right'>D-Glucose <=></p>\n",
       "                </td>\n",
       "            </tr><tr>\n",
       "                <td><strong>GPR</strong></td><td></td>\n",
       "            </tr><tr>\n",
       "                <td><strong>Lower bound</strong></td><td>-10.0</td>\n",
       "            </tr><tr>\n",
       "                <td><strong>Upper bound</strong></td><td>1000.0</td>\n",
       "            </tr>\n",
       "        </table>\n",
       "        "
      ],
      "text/plain": [
       "<Reaction EX_glc__D_e at 0x20bede2bb20>"
      ]
     },
     "execution_count": 20,
     "metadata": {},
     "output_type": "execute_result"
    }
   ],
   "source": [
    "model.reactions.EX_glc__D_e"
   ]
  },
  {
   "cell_type": "code",
   "execution_count": 21,
   "id": "14b05167",
   "metadata": {},
   "outputs": [
    {
     "data": {
      "text/plain": [
       "'GLCpts, EX_glc__D_e'"
      ]
     },
     "execution_count": 21,
     "metadata": {},
     "output_type": "execute_result"
    }
   ],
   "source": [
    "metabolite = model.metabolites.get_by_id('glc__D_e')\n",
    "', '.join([rxn.id for rxn in metabolite.reactions])"
   ]
  },
  {
   "cell_type": "code",
   "execution_count": 22,
   "id": "a9b4d85b",
   "metadata": {},
   "outputs": [
    {
     "name": "stdout",
     "output_type": "stream",
     "text": [
      "((b0902 and b0903) and b2579) or (b0902 and b0903) or (b0902 and b3114) or (b3951 and b3952)\n"
     ]
    },
    {
     "data": {
      "text/html": [
       "\n",
       "        <table>\n",
       "            <tr>\n",
       "                <td><strong>Reaction identifier</strong></td><td>PFL</td>\n",
       "            </tr><tr>\n",
       "                <td><strong>Name</strong></td><td>Pyruvate formate lyase</td>\n",
       "            </tr><tr>\n",
       "                <td><strong>Memory address</strong></td>\n",
       "                <td>0x20bedd56ad0</td>\n",
       "            </tr><tr>\n",
       "                <td><strong>Stoichiometry</strong></td>\n",
       "                <td>\n",
       "                    <p style='text-align:right'>coa_c + pyr_c --> accoa_c + for_c</p>\n",
       "                    <p style='text-align:right'>Coenzyme A + Pyruvate --> Acetyl-CoA + Formate</p>\n",
       "                </td>\n",
       "            </tr><tr>\n",
       "                <td><strong>GPR</strong></td><td>((b0902 and b0903) and b2579) or (b0902 and b0903) or (b0902 and b3114) or (b3951 and b3952)</td>\n",
       "            </tr><tr>\n",
       "                <td><strong>Lower bound</strong></td><td>0.0</td>\n",
       "            </tr><tr>\n",
       "                <td><strong>Upper bound</strong></td><td>1000.0</td>\n",
       "            </tr>\n",
       "        </table>\n",
       "        "
      ],
      "text/plain": [
       "<Reaction PFL at 0x20bedd56ad0>"
      ]
     },
     "execution_count": 22,
     "metadata": {},
     "output_type": "execute_result"
    }
   ],
   "source": [
    "reaction = model.reactions.get_by_id(model.reactions[1].id)\n",
    "print(str(reaction.gpr))\n",
    "reaction"
   ]
  },
  {
   "cell_type": "code",
   "execution_count": 23,
   "id": "4d85adc9",
   "metadata": {},
   "outputs": [
    {
     "data": {
      "text/plain": [
       "'ALCD2x, ACALD'"
      ]
     },
     "execution_count": 23,
     "metadata": {},
     "output_type": "execute_result"
    }
   ],
   "source": [
    "pgi_gene = model.genes.get_by_id(\"b1241\")\n",
    "', '.join([rxn.id for rxn in pgi_gene.reactions])"
   ]
  },
  {
   "cell_type": "code",
   "execution_count": 24,
   "id": "94efa685",
   "metadata": {},
   "outputs": [
    {
     "data": {
      "text/plain": [
       "[['rxn_id', 'lower_bound', 'upper_bound'],\n",
       " ['EX_glc__D_e', '-10.0', '0.0'],\n",
       " ['EX_o2_e', '-20.0', '0.0'],\n",
       " ['']]"
      ]
     },
     "execution_count": 24,
     "metadata": {},
     "output_type": "execute_result"
    }
   ],
   "source": [
    "[i.split(\",\") for i in \"\"\"rxn_id,lower_bound,upper_bound\n",
    "EX_glc__D_e,-10.0,0.0\n",
    "EX_o2_e,-20.0,0.0\n",
    "\"\"\".split('\\n')]"
   ]
  },
  {
   "cell_type": "code",
   "execution_count": 25,
   "id": "28602e38",
   "metadata": {},
   "outputs": [],
   "source": [
    "bounds_dict = {\n",
    "    \"EX_glc__D_e\": (-10.0, 0.0),\n",
    "    \"EX_o2_e\": (-20.0, 0.0)\n",
    "}"
   ]
  },
  {
   "cell_type": "code",
   "execution_count": 26,
   "id": "9739d82a",
   "metadata": {},
   "outputs": [
    {
     "name": "stdout",
     "output_type": "stream",
     "text": [
      "optimal Hello PFK    3.356\n",
      "PFL    0.000\n",
      "PGI    3.356\n",
      "PGK   -6.712\n",
      "PGL    0.000\n",
      "Name: fluxes, dtype: float64 glc__D_e    0.0\n",
      "gln__L_c    0.0\n",
      "gln__L_e    0.0\n",
      "glu__L_c    0.0\n",
      "glu__L_e    0.0\n",
      "Name: shadow_prices, dtype: float64\n"
     ]
    }
   ],
   "source": [
    "# def bounds_data_for_FBA(csv_file_path: str) -> dict:\n",
    "#     import pandas as pd\n",
    "#     try:\n",
    "#         df = pd.read_csv(csv_file_path)\n",
    "#         bounds_data = df.to_dict(orient='records')\n",
    "#         return bounds_data\n",
    "#     except Exception as e:\n",
    "#         return {\"error\": str(e)}\n",
    "\n",
    "def run_fba(bounds: dict = {}) -> str:\n",
    "    for rxn_id, bounds in bounds.items():\n",
    "        if rxn_id in model.reactions:\n",
    "            model.reactions.get_by_id(rxn_id).bounds = (bounds[0], bounds[1])\n",
    "\n",
    "    solution = model.optimize()\n",
    "    print(solution.status, \"Hello\", solution.fluxes[:5], solution.shadow_prices[:5])\n",
    "    # return f\"Objective value: {solution.objective_value}\"\n",
    "\n",
    "run_fba(bounds_dict)"
   ]
  },
  {
   "cell_type": "code",
   "execution_count": null,
   "id": "070cf260",
   "metadata": {},
   "outputs": [],
   "source": []
  },
  {
   "cell_type": "code",
   "execution_count": 27,
   "id": "fe2f8746",
   "metadata": {},
   "outputs": [
    {
     "data": {
      "text/plain": [
       "'E:\\\\INTERNSHIP\\\\IITM\\\\metabolic\\\\uploads\\\\e_coli_core'"
      ]
     },
     "execution_count": 27,
     "metadata": {},
     "output_type": "execute_result"
    }
   ],
   "source": [
    "from models import ModelManager\n",
    "model_manager = ModelManager()\n",
    "model_manager.load_sbml(r\"E:\\INTERNSHIP\\IITM\\metabolic\\uploads\\e_coli_core.xml\")"
   ]
  },
  {
   "cell_type": "code",
   "execution_count": 28,
   "id": "5427c284",
   "metadata": {},
   "outputs": [],
   "source": [
    "def model_data() -> dict:\n",
    "    \"\"\"\n",
    "    Returns metadata for a given a model.\n",
    "    This function simulates fetching metadata from a database or API.\n",
    "    \"\"\"\n",
    "    try:\n",
    "        model = model_manager.get_current_model()\n",
    "\n",
    "        for rxn in model.reactions:\n",
    "            if rxn.lower_bound is None:\n",
    "                rxn.lower_bound = -1000.0\n",
    "            if rxn.upper_bound is None:\n",
    "                rxn.upper_bound = 1000.0\n",
    "\n",
    "        data = {\n",
    "            \"model_id\": str(model.id),\n",
    "            # \"model_name\": str(model.name) if model.name else \"unknown\",\n",
    "            \"objective_reaction\": str(model.objective.expression) if model.objective.expression else \"Not Set Yet\",\n",
    "            \"reactions_count\": len(model.reactions),\n",
    "            \"metabolites_count\": len(model.metabolites),\n",
    "            \"genes_count\": len(model.genes),\n",
    "            \"groups_count\": len(model.groups),\n",
    "            \"compartments_count\": len(model.compartments),\n",
    "            \"Compartments\": str([v.name for k,v in model.compartments.items()]),\n",
    "        }\n",
    "        return data\n",
    "    except Exception as e:\n",
    "        return {\n",
    "            \"error\": str(e),\n",
    "            \"model_id\": model_manager.current_model_id\n",
    "        }\n"
   ]
  },
  {
   "cell_type": "code",
   "execution_count": 29,
   "id": "3f0d648e",
   "metadata": {},
   "outputs": [
    {
     "name": "stdout",
     "output_type": "stream",
     "text": [
      "      reaction   lval   uval\n",
      "0  EX_glc__D_e  -10.0    0.0\n",
      "1      EX_o2_e  -20.0    0.0\n",
      "[['EX_glc__D_e', -10.0, 0.0], ['EX_o2_e', -20.0, 0.0]]\n"
     ]
    }
   ],
   "source": [
    "import pandas as pd\n",
    "csv = pd.read_csv(r\"C:\\Users\\Aadhitya Sriram\\Downloads\\e_coli_bounds.csv\")\n",
    "print(csv)\n",
    "print(csv.values.tolist())"
   ]
  },
  {
   "cell_type": "code",
   "execution_count": null,
   "id": "fb8a4dd5",
   "metadata": {},
   "outputs": [],
   "source": []
  },
  {
   "cell_type": "markdown",
   "id": "1bcd4646",
   "metadata": {},
   "source": [
    "#### LLM INTEGRATION"
   ]
  },
  {
   "cell_type": "code",
   "execution_count": 3,
   "id": "9bc7350d",
   "metadata": {},
   "outputs": [],
   "source": [
    "import torch\n",
    "from transformers import pipeline\n",
    "from transformers import AutoTokenizer, AutoModelForCausalLM, pipeline"
   ]
  },
  {
   "cell_type": "code",
   "execution_count": null,
   "id": "ca9d72a2",
   "metadata": {},
   "outputs": [],
   "source": [
    "class HuggingFaceLLM:\n",
    "    def __init__(self, model_name=\"mistralai/Mistral-7B-Instruct-v0.1\"):\n",
    "        self.model_name = model_name\n",
    "        self.device = \"cuda\" if torch.cuda.is_available() else \"cpu\"\n",
    "\n",
    "        self.tokenizer = AutoTokenizer.from_pretrained(model_name)\n",
    "        self.model = AutoModelForCausalLM.from_pretrained(\n",
    "            model_name,\n",
    "            torch_dtype=torch.float16 if self.device == \"cuda\" else torch.float32,\n",
    "            device_map=\"auto\"\n",
    "        )\n",
    "        self.generator = pipeline(\n",
    "            \"text-generation\",\n",
    "            model=self.model,\n",
    "            tokenizer=self.tokenizer,\n",
    "            device=0 if self.device == \"cuda\" else -1\n",
    "        )\n",
    "\n",
    "    def chat(self, prompt: str, max_new_tokens: int = 512) -> str:\n",
    "        output = self.generator(\n",
    "            prompt,\n",
    "            max_new_tokens=max_new_tokens,\n",
    "            do_sample=True,\n",
    "            temperature=0.7,\n",
    "            top_p=0.95,\n",
    "            pad_token_id=self.tokenizer.eos_token_id\n",
    "        )\n",
    "        return output[0][\"generated_text\"]"
   ]
  },
  {
   "cell_type": "code",
   "execution_count": null,
   "id": "3bd1998e",
   "metadata": {},
   "outputs": [
    {
     "name": "stderr",
     "output_type": "stream",
     "text": [
      "e:\\Conda\\envs\\mecha\\lib\\site-packages\\tqdm\\auto.py:21: TqdmWarning: IProgress not found. Please update jupyter and ipywidgets. See https://ipywidgets.readthedocs.io/en/stable/user_install.html\n",
      "  from .autonotebook import tqdm as notebook_tqdm\n",
      "Fetching 2 files:   0%|          | 0/2 [00:00<?, ?it/s]"
     ]
    }
   ],
   "source": [
    "from llama_index.llms.huggingface import HuggingFaceLLM\n",
    "llm = HuggingFaceLLM(model_name=\"Qwen/Qwen3-1.7B\")"
   ]
  },
  {
   "cell_type": "markdown",
   "id": "3fbe2e01",
   "metadata": {},
   "source": [
    "#### Simulating Deletions"
   ]
  },
  {
   "cell_type": "code",
   "execution_count": 18,
   "id": "91d66578",
   "metadata": {},
   "outputs": [],
   "source": [
    "import pandas\n",
    "from time import time\n",
    "\n",
    "from cobra.io import load_model\n",
    "from cobra.flux_analysis import (\n",
    "    single_gene_deletion, single_reaction_deletion, double_gene_deletion,\n",
    "    double_reaction_deletion)\n",
    "\n",
    "from models import ModelManager\n",
    "model_manager = ModelManager()\n",
    "model_manager.load_model_by_id('e_coli_core')\n",
    "model = model_manager.get_current_model()"
   ]
  },
  {
   "cell_type": "code",
   "execution_count": null,
   "id": "839a6dcf",
   "metadata": {},
   "outputs": [
    {
     "data": {
      "text/plain": [
       "[<Reaction PFK at 0x1e5d5cea8f0>,\n",
       " <Reaction PFL at 0x1e5d5cea050>,\n",
       " <Reaction PGI at 0x1e5d5ce9840>]"
      ]
     },
     "execution_count": 21,
     "metadata": {},
     "output_type": "execute_result"
    }
   ],
   "source": [
    "reaction_names = ['Phosphofructokinase', 'Pyruvate formate lyase', 'Glucose-6-phosphate isomerase']\n",
    "\n",
    "valid_rxns = []\n",
    "seen = set()  # avoid duplicates\n",
    "for rxn in model.reactions:\n",
    "    if rxn.name in reaction_names and rxn.id not in seen:\n",
    "        valid_rxns.append(rxn)\n",
    "        seen.add(rxn.id)\n",
    "\n",
    "valid_rxns"
   ]
  },
  {
   "cell_type": "code",
   "execution_count": 10,
   "id": "e3dce5c2",
   "metadata": {},
   "outputs": [
    {
     "data": {
      "text/plain": [
       "['PFK',\n",
       " 'PFL',\n",
       " 'PGI',\n",
       " 'PGK',\n",
       " 'PGL',\n",
       " 'ACALD',\n",
       " 'AKGt2r',\n",
       " 'PGM',\n",
       " 'PIt2r',\n",
       " 'ALCD2x']"
      ]
     },
     "execution_count": 10,
     "metadata": {},
     "output_type": "execute_result"
    }
   ],
   "source": [
    "[rxn.id for rxn in model.reactions[:10]]"
   ]
  },
  {
   "cell_type": "code",
   "execution_count": 4,
   "id": "09f6d508",
   "metadata": {},
   "outputs": [
    {
     "name": "stdout",
     "output_type": "stream",
     "text": [
      "complete model:  <Solution 0.874 at 0x24c11badd80>\n",
      "pfk knocked out:  <Solution 0.704 at 0x24c11c239d0>\n"
     ]
    }
   ],
   "source": [
    "cobra_model = load_model(\"textbook\")\n",
    "\n",
    "print('complete model: ', cobra_model.optimize())\n",
    "with cobra_model:\n",
    "    # reaction = cobra_model.reactions.PFK\n",
    "    for rxn in cobra_model.reactions:\n",
    "        if rxn.id == \"PFK\":\n",
    "            reaction = rxn\n",
    "            break\n",
    "    reaction.knock_out()\n",
    "    print('pfk knocked out: ', cobra_model.optimize())\n"
   ]
  },
  {
   "cell_type": "markdown",
   "id": "ad4f63b2",
   "metadata": {},
   "source": [
    "Give as a list"
   ]
  },
  {
   "cell_type": "code",
   "execution_count": 7,
   "id": "fccf20f7",
   "metadata": {},
   "outputs": [],
   "source": [
    "from cobra.flux_analysis import single_gene_deletion, double_gene_deletion\n",
    "from cobra.flux_analysis import single_reaction_deletion, double_reaction_deletion\n",
    "\n",
    "def gene_knockout_simulation(gene_names: list[str], type: str = \"single\") -> dict:\n",
    "    \"\"\"\n",
    "    Performs single or double gene knockout simulations on the loaded metabolic model.\n",
    "    \"\"\"\n",
    "    try:\n",
    "        model = model_manager.get_current_model()\n",
    "        valid_genes = [g for g in gene_names if g in model.genes]\n",
    "        if not valid_genes:\n",
    "            return {\"error\": \"None of the provided genes are valid in this model.\"}\n",
    "\n",
    "        if type == \"single\":\n",
    "            result = single_gene_deletion(model, gene_list=valid_genes)\n",
    "        elif type == \"double\":\n",
    "            result = double_gene_deletion(model, gene_list=valid_genes)\n",
    "        else:\n",
    "            return {\"error\": \"Invalid type. Choose 'single' or 'double'.\"}\n",
    "\n",
    "        result = result.rename(columns={\n",
    "            \"growth\": \"Post-KO Growth\",\n",
    "            \"ids\": \"Gene(s)\",\n",
    "            \"status\": \"Solver Status\"\n",
    "        })\n",
    "\n",
    "        if len(result) > 5:\n",
    "            file_path = \"/tmp/gene_knockout_result.csv\"\n",
    "            result.to_csv(file_path, index=False)\n",
    "            return {\"file\": file_path, \"note\": \"Too many results to display. Download CSV.\"}\n",
    "\n",
    "        return result.iloc[:5].to_dict(orient=\"records\")\n",
    "\n",
    "    except Exception as e:\n",
    "        return {\"error\": str(e)}"
   ]
  },
  {
   "cell_type": "code",
   "execution_count": null,
   "id": "bf00e039",
   "metadata": {},
   "outputs": [],
   "source": [
    "def reaction_knockout_simulation(reaction_ids: list[str], type: str = \"single\") -> dict:\n",
    "    \"\"\"\n",
    "    Performs single or double reaction knockout simulations on the loaded metabolic model.\n",
    "    \"\"\"\n",
    "    try:\n",
    "        model = model_manager.get_current_model()\n",
    "        valid_rxns = [r for r in reaction_ids if r in model.reactions]\n",
    "        if not valid_rxns:\n",
    "            return {\"error\": \"None of the provided reactions are valid in this model.\"}\n",
    "\n",
    "        if type == \"single\":\n",
    "            result = single_reaction_deletion(model, reaction_list=valid_rxns)\n",
    "        elif type == \"double\":\n",
    "            result = double_reaction_deletion(model, reaction_list=valid_rxns)\n",
    "        else:\n",
    "            return {\"error\": \"Invalid type. Choose 'single' or 'double'.\"}\n",
    "\n",
    "        result = result.rename(columns={\n",
    "            \"growth\": \"Post-KO Growth\",\n",
    "            \"ids\": \"Reaction(s)\",\n",
    "            \"status\": \"Solver Status\"\n",
    "        })\n",
    "\n",
    "        if len(result) > 5:\n",
    "            file_path = \"/tmp/reaction_knockout_result.csv\"\n",
    "            result.to_csv(file_path, index=False)\n",
    "            return {\"file\": file_path, \"note\": \"Too many results to display. Download CSV.\"}\n",
    "\n",
    "        return result.iloc[:5].to_dict(orient=\"records\")\n",
    "\n",
    "    except Exception as e:\n",
    "        return {\"error\": str(e)}"
   ]
  },
  {
   "cell_type": "code",
   "execution_count": 9,
   "id": "0a4f8ac8",
   "metadata": {},
   "outputs": [
    {
     "data": {
      "text/plain": [
       "{'error': 'None of the provided reactions are valid in this model.'}"
      ]
     },
     "execution_count": 9,
     "metadata": {},
     "output_type": "execute_result"
    }
   ],
   "source": [
    "reaction_knockout_simulation(['PFK', 'PGI'], type=\"single\")"
   ]
  },
  {
   "cell_type": "markdown",
   "id": "eecfb369",
   "metadata": {},
   "source": [
    "#### Flux Sampling"
   ]
  },
  {
   "cell_type": "code",
   "execution_count": 1,
   "id": "b472e5d2",
   "metadata": {},
   "outputs": [
    {
     "data": {
      "text/html": [
       "<div>\n",
       "<style scoped>\n",
       "    .dataframe tbody tr th:only-of-type {\n",
       "        vertical-align: middle;\n",
       "    }\n",
       "\n",
       "    .dataframe tbody tr th {\n",
       "        vertical-align: top;\n",
       "    }\n",
       "\n",
       "    .dataframe thead th {\n",
       "        text-align: right;\n",
       "    }\n",
       "</style>\n",
       "<table border=\"1\" class=\"dataframe\">\n",
       "  <thead>\n",
       "    <tr style=\"text-align: right;\">\n",
       "      <th></th>\n",
       "      <th>ACALD</th>\n",
       "      <th>ACALDt</th>\n",
       "      <th>ACKr</th>\n",
       "      <th>ACONTa</th>\n",
       "      <th>ACONTb</th>\n",
       "      <th>ACt2r</th>\n",
       "      <th>ADK1</th>\n",
       "      <th>AKGDH</th>\n",
       "      <th>AKGt2r</th>\n",
       "      <th>ALCD2x</th>\n",
       "      <th>...</th>\n",
       "      <th>RPI</th>\n",
       "      <th>SUCCt2_2</th>\n",
       "      <th>SUCCt3</th>\n",
       "      <th>SUCDi</th>\n",
       "      <th>SUCOAS</th>\n",
       "      <th>TALA</th>\n",
       "      <th>THD2</th>\n",
       "      <th>TKT1</th>\n",
       "      <th>TKT2</th>\n",
       "      <th>TPI</th>\n",
       "    </tr>\n",
       "  </thead>\n",
       "  <tbody>\n",
       "    <tr>\n",
       "      <th>0</th>\n",
       "      <td>-3.890821</td>\n",
       "      <td>-0.792777</td>\n",
       "      <td>-2.851561</td>\n",
       "      <td>8.749809</td>\n",
       "      <td>8.749809</td>\n",
       "      <td>-2.851561</td>\n",
       "      <td>7.283112</td>\n",
       "      <td>1.392740</td>\n",
       "      <td>-0.106940</td>\n",
       "      <td>-3.098044</td>\n",
       "      <td>...</td>\n",
       "      <td>-0.430010</td>\n",
       "      <td>5.499806</td>\n",
       "      <td>7.698045</td>\n",
       "      <td>549.353168</td>\n",
       "      <td>-1.392740</td>\n",
       "      <td>0.419973</td>\n",
       "      <td>8.987019</td>\n",
       "      <td>0.419973</td>\n",
       "      <td>0.415937</td>\n",
       "      <td>9.491228</td>\n",
       "    </tr>\n",
       "    <tr>\n",
       "      <th>1</th>\n",
       "      <td>-0.508250</td>\n",
       "      <td>-0.417557</td>\n",
       "      <td>-0.579870</td>\n",
       "      <td>14.142261</td>\n",
       "      <td>14.142261</td>\n",
       "      <td>-0.579870</td>\n",
       "      <td>12.410068</td>\n",
       "      <td>3.211441</td>\n",
       "      <td>-1.190809</td>\n",
       "      <td>-0.090693</td>\n",
       "      <td>...</td>\n",
       "      <td>-0.431297</td>\n",
       "      <td>12.904390</td>\n",
       "      <td>14.103749</td>\n",
       "      <td>804.607737</td>\n",
       "      <td>-3.211441</td>\n",
       "      <td>0.386210</td>\n",
       "      <td>5.013765</td>\n",
       "      <td>0.386210</td>\n",
       "      <td>0.368078</td>\n",
       "      <td>9.534583</td>\n",
       "    </tr>\n",
       "    <tr>\n",
       "      <th>2</th>\n",
       "      <td>-0.317894</td>\n",
       "      <td>-0.009309</td>\n",
       "      <td>-1.692664</td>\n",
       "      <td>8.385905</td>\n",
       "      <td>8.385905</td>\n",
       "      <td>-1.692664</td>\n",
       "      <td>2.588217</td>\n",
       "      <td>0.856310</td>\n",
       "      <td>-1.545613</td>\n",
       "      <td>-0.308585</td>\n",
       "      <td>...</td>\n",
       "      <td>-1.556312</td>\n",
       "      <td>19.144189</td>\n",
       "      <td>19.843284</td>\n",
       "      <td>815.325093</td>\n",
       "      <td>-0.856310</td>\n",
       "      <td>1.526594</td>\n",
       "      <td>0.321619</td>\n",
       "      <td>1.526594</td>\n",
       "      <td>1.514643</td>\n",
       "      <td>7.766499</td>\n",
       "    </tr>\n",
       "    <tr>\n",
       "      <th>3</th>\n",
       "      <td>-1.804146</td>\n",
       "      <td>-1.123270</td>\n",
       "      <td>-0.377417</td>\n",
       "      <td>7.358081</td>\n",
       "      <td>7.358081</td>\n",
       "      <td>-0.377417</td>\n",
       "      <td>1.249721</td>\n",
       "      <td>2.050678</td>\n",
       "      <td>-0.291257</td>\n",
       "      <td>-0.680876</td>\n",
       "      <td>...</td>\n",
       "      <td>-3.336967</td>\n",
       "      <td>38.220412</td>\n",
       "      <td>39.767240</td>\n",
       "      <td>844.068378</td>\n",
       "      <td>-2.050678</td>\n",
       "      <td>3.331725</td>\n",
       "      <td>0.025116</td>\n",
       "      <td>3.331725</td>\n",
       "      <td>3.329617</td>\n",
       "      <td>6.185412</td>\n",
       "    </tr>\n",
       "    <tr>\n",
       "      <th>4</th>\n",
       "      <td>-2.840410</td>\n",
       "      <td>-1.745393</td>\n",
       "      <td>-0.013737</td>\n",
       "      <td>9.007029</td>\n",
       "      <td>9.007029</td>\n",
       "      <td>-0.013737</td>\n",
       "      <td>14.702444</td>\n",
       "      <td>3.380720</td>\n",
       "      <td>-0.744910</td>\n",
       "      <td>-1.095018</td>\n",
       "      <td>...</td>\n",
       "      <td>-3.460033</td>\n",
       "      <td>21.305473</td>\n",
       "      <td>21.823486</td>\n",
       "      <td>707.864824</td>\n",
       "      <td>-3.380720</td>\n",
       "      <td>3.458024</td>\n",
       "      <td>17.627957</td>\n",
       "      <td>3.458024</td>\n",
       "      <td>3.457216</td>\n",
       "      <td>6.376081</td>\n",
       "    </tr>\n",
       "  </tbody>\n",
       "</table>\n",
       "<p>5 rows × 95 columns</p>\n",
       "</div>"
      ],
      "text/plain": [
       "      ACALD    ACALDt      ACKr     ACONTa     ACONTb     ACt2r       ADK1  \\\n",
       "0 -3.890821 -0.792777 -2.851561   8.749809   8.749809 -2.851561   7.283112   \n",
       "1 -0.508250 -0.417557 -0.579870  14.142261  14.142261 -0.579870  12.410068   \n",
       "2 -0.317894 -0.009309 -1.692664   8.385905   8.385905 -1.692664   2.588217   \n",
       "3 -1.804146 -1.123270 -0.377417   7.358081   7.358081 -0.377417   1.249721   \n",
       "4 -2.840410 -1.745393 -0.013737   9.007029   9.007029 -0.013737  14.702444   \n",
       "\n",
       "      AKGDH    AKGt2r    ALCD2x  ...       RPI   SUCCt2_2     SUCCt3  \\\n",
       "0  1.392740 -0.106940 -3.098044  ... -0.430010   5.499806   7.698045   \n",
       "1  3.211441 -1.190809 -0.090693  ... -0.431297  12.904390  14.103749   \n",
       "2  0.856310 -1.545613 -0.308585  ... -1.556312  19.144189  19.843284   \n",
       "3  2.050678 -0.291257 -0.680876  ... -3.336967  38.220412  39.767240   \n",
       "4  3.380720 -0.744910 -1.095018  ... -3.460033  21.305473  21.823486   \n",
       "\n",
       "        SUCDi    SUCOAS      TALA       THD2      TKT1      TKT2       TPI  \n",
       "0  549.353168 -1.392740  0.419973   8.987019  0.419973  0.415937  9.491228  \n",
       "1  804.607737 -3.211441  0.386210   5.013765  0.386210  0.368078  9.534583  \n",
       "2  815.325093 -0.856310  1.526594   0.321619  1.526594  1.514643  7.766499  \n",
       "3  844.068378 -2.050678  3.331725   0.025116  3.331725  3.329617  6.185412  \n",
       "4  707.864824 -3.380720  3.458024  17.627957  3.458024  3.457216  6.376081  \n",
       "\n",
       "[5 rows x 95 columns]"
      ]
     },
     "execution_count": 1,
     "metadata": {},
     "output_type": "execute_result"
    }
   ],
   "source": [
    "from cobra.io import load_model\n",
    "from cobra.sampling import sample\n",
    "\n",
    "model = load_model(\"textbook\")\n",
    "s = sample(model, 100)\n",
    "s.head()"
   ]
  },
  {
   "cell_type": "code",
   "execution_count": null,
   "id": "51c785c7",
   "metadata": {},
   "outputs": [
    {
     "name": "stdout",
     "output_type": "stream",
     "text": [
      "One process:\n",
      "CPU times: total: 188 ms\n",
      "Wall time: 3.5 s\n",
      "Two processes:\n",
      "CPU times: total: 0 ns\n",
      "Wall time: 4.1 s\n",
      "ACHRT\n",
      "CPU times: total: 93.8 ms\n",
      "Wall time: 490 ms\n"
     ]
    }
   ],
   "source": [
    "print(\"One process:\")\n",
    "%time s = sample(model, 1000)\n",
    "print(\"Two processes:\")\n",
    "%time s = sample(model, 1000, processes=2)\n",
    "print(\"ACHR\")\n",
    "%time s = sample(model, 100, method=\"achr\")"
   ]
  },
  {
   "cell_type": "code",
   "execution_count": null,
   "id": "db9a7b1a",
   "metadata": {},
   "outputs": [],
   "source": [
    "from cobra.sampling import OptGPSampler, ACHRSampler\n",
    "achr = ACHRSampler(model, thinning=10)\n",
    "optgp = OptGPSampler(model, processes=4)"
   ]
  },
  {
   "cell_type": "code",
   "execution_count": null,
   "id": "932bf357",
   "metadata": {},
   "outputs": [
    {
     "name": "stdout",
     "output_type": "stream",
     "text": [
      "s1:        ACALD    ACALDt      ACKr     ACONTa     ACONTb     ACt2r       ADK1  \\\n",
      "0  -4.141322 -2.515126 -0.360114   8.360897   8.360897 -0.360114  11.275434   \n",
      "1  -2.794019 -2.127295 -1.932392   7.665680   7.665680 -1.932392  10.802762   \n",
      "2  -3.261962 -2.165435 -0.745168   7.851490   7.851490 -0.745168   6.937721   \n",
      "3  -4.309282 -2.204211 -0.490739   8.308006   8.308006 -0.490739  11.327321   \n",
      "4  -4.411390 -2.208213 -1.619287   7.991046   7.991046 -1.619287  12.886279   \n",
      "..       ...       ...       ...        ...        ...       ...        ...   \n",
      "95 -1.153290 -0.910909 -1.191121   8.870089   8.870089 -1.191121   3.611420   \n",
      "96 -1.071335 -0.906100 -1.107278  10.566670  10.566670 -1.107278   3.628939   \n",
      "97 -1.266864 -1.014282 -0.873268  12.163036  12.163036 -0.873268   2.964187   \n",
      "98 -1.328069 -0.946664 -3.994312   9.824124   9.824124 -3.994312   1.432650   \n",
      "99 -1.877173 -1.016000 -1.260958  10.349873  10.349873 -1.260958   1.839877   \n",
      "\n",
      "       AKGDH    AKGt2r    ALCD2x  ...       RPI   SUCCt2_2     SUCCt3  \\\n",
      "0   2.772719 -0.222096 -1.626196  ... -2.454208  28.760537  30.044840   \n",
      "1   2.900728 -0.198006 -0.666723  ... -2.392199  28.167479  28.837037   \n",
      "2   3.256064 -0.262385 -1.096527  ... -2.835005  29.758719  30.876608   \n",
      "3   2.544281 -0.054990 -2.105071  ... -1.822013  27.401433  27.919722   \n",
      "4   2.450174 -0.060551 -2.203177  ... -1.955388  27.604371  27.671449   \n",
      "..       ...       ...       ...  ...       ...        ...        ...   \n",
      "95  1.211859 -0.988155 -0.242381  ... -0.618073   4.220904   6.284091   \n",
      "96  3.159651 -0.755847 -0.165235  ... -0.857739   4.583871   6.898993   \n",
      "97  3.826495 -0.872826 -0.252581  ... -0.382818   7.708757   8.898243   \n",
      "98  3.894767 -0.799845 -0.381405  ... -0.970149   6.107200   6.278147   \n",
      "99  4.523126 -0.799417 -0.861174  ... -0.969348  10.394591  12.227908   \n",
      "\n",
      "         SUCDi    SUCOAS      TALA       THD2      TKT1      TKT2       TPI  \n",
      "0   245.642333 -2.772719  2.431260   1.561920  2.431260  2.422032  6.882272  \n",
      "1   280.997338 -2.900728  2.357809   0.887434  2.357809  2.343979  6.958314  \n",
      "2   249.287690 -3.256064  2.794102  14.281635  2.794102  2.777653  6.864118  \n",
      "3   173.224773 -2.544281  1.776036  15.671988  1.776036  1.757547  7.717767  \n",
      "4   146.899661 -2.450174  1.928930   4.899809  1.928930  1.918290  7.586214  \n",
      "..         ...       ...       ...        ...       ...       ...       ...  \n",
      "95  526.119134 -1.211859  0.596092  11.378217  0.596092  0.587252  9.266284  \n",
      "96  618.326449 -3.159651  0.836184  11.245271  0.836184  0.827515  9.030624  \n",
      "97  577.641179 -3.826495  0.356135  14.263224  0.356135  0.345405  9.426322  \n",
      "98  596.149969 -3.894767  0.962796  12.385408  0.962796  0.959840  8.899783  \n",
      "99  612.463842 -4.523126  0.961703  12.374844  0.961703  0.958629  8.900789  \n",
      "\n",
      "[100 rows x 95 columns]\n",
      "s2:        ACALD    ACALDt      ACKr     ACONTa     ACONTb     ACt2r       ADK1  \\\n",
      "0  -0.834106 -0.015140 -3.171621   5.395551   5.395551 -3.171621   1.012518   \n",
      "1  -0.525871 -0.039513 -0.267860   7.740919   7.740919 -0.267860  11.007668   \n",
      "2  -0.670417 -0.308105 -0.372303  10.360604  10.360604 -0.372303   8.812249   \n",
      "3  -1.350720 -0.607555 -0.444396   9.555426   9.555426 -0.444396  19.158526   \n",
      "4  -1.670459 -0.572486 -1.818991   5.144203   5.144203 -1.818991   7.785395   \n",
      "..       ...       ...       ...        ...        ...       ...        ...   \n",
      "95 -1.660148 -1.028966 -5.942866   7.927600   7.927600 -5.942866  10.216053   \n",
      "96 -0.644526 -0.059933 -6.944598   4.851376   4.851376 -6.944598   7.457439   \n",
      "97 -1.849517 -0.536652 -2.637195   5.789385   5.789385 -2.637195   8.026559   \n",
      "98 -1.869169 -0.990507 -0.207886  10.623294  10.623294 -0.207886  13.138754   \n",
      "99 -1.926479 -1.230332 -2.118609   7.237509   7.237509 -2.118609   3.405101   \n",
      "\n",
      "       AKGDH    AKGt2r    ALCD2x  ...       RPI   SUCCt2_2     SUCCt3  \\\n",
      "0   3.494224 -0.417958 -0.818966  ... -2.131412   3.701044   3.769967   \n",
      "1   2.261594 -0.078783 -0.486358  ... -2.444493   7.875800   8.860291   \n",
      "2   2.022288 -2.179478 -0.362311  ... -3.058104  10.247420  11.194532   \n",
      "3   1.313822 -1.606265 -0.743165  ... -3.132504   1.763859   1.986937   \n",
      "4   2.447901 -0.381214 -1.097973  ... -3.711334   8.651276  11.128267   \n",
      "..       ...       ...       ...  ...       ...        ...        ...   \n",
      "95  4.528733 -0.266268 -0.631182  ... -0.305506  28.554281  30.194295   \n",
      "96  3.234118 -0.020131 -0.584593  ... -1.209274  18.338426  19.805148   \n",
      "97  1.557681 -0.176985 -1.312865  ... -4.587242  15.993805  16.191706   \n",
      "98  4.153869 -1.165499 -0.878662  ... -1.599259   5.349401   6.774841   \n",
      "99  2.202440 -0.507575 -0.696147  ... -0.477918   8.024014   8.925827   \n",
      "\n",
      "         SUCDi    SUCOAS      TALA       THD2      TKT1      TKT2       TPI  \n",
      "0   448.938079 -3.494224  2.107511   2.243217  2.107511  2.097900  7.506580  \n",
      "1   370.086025 -2.261594  2.423423  36.324293  2.423423  2.414950  7.480811  \n",
      "2   270.351268 -2.022288  3.033301  41.022382  3.033301  3.023327  6.861140  \n",
      "3   249.076247 -1.313822  3.039854  34.198961  3.039854  3.002596  6.706438  \n",
      "4   227.010539 -2.447901  3.559837   9.879981  3.559837  3.498914  5.688354  \n",
      "..         ...       ...       ...        ...       ...       ...       ...  \n",
      "95  692.284963 -4.528733  0.240187   3.994675  0.240187  0.213920  9.544616  \n",
      "96  596.691986 -3.234118  1.130342   8.083772  1.130342  1.098600  8.704504  \n",
      "97  797.872267 -1.557681  4.580497   0.458968  4.580497  4.577785  4.511883  \n",
      "98  683.569166 -4.153869  1.559897  43.944147  1.559897  1.544067  8.337175  \n",
      "99  555.732729 -2.202440  0.395247  14.683220  0.395247  0.362001  8.822166  \n",
      "\n",
      "[100 rows x 95 columns]\n"
     ]
    }
   ],
   "source": [
    "s1 = achr.sample(100)\n",
    "s2 = optgp.sample(100)\n",
    "print(\"s1:\", s1)\n",
    "print(\"s2:\", s2)"
   ]
  },
  {
   "cell_type": "code",
   "execution_count": 9,
   "id": "f620abb0",
   "metadata": {},
   "outputs": [
    {
     "data": {
      "text/plain": [
       "array(['le'], dtype='<U3')"
      ]
     },
     "execution_count": 9,
     "metadata": {},
     "output_type": "execute_result"
    }
   ],
   "source": [
    "import numpy as np\n",
    "\n",
    "bad = np.random.uniform(-1000, 1000, size=len(model.reactions))\n",
    "achr.validate(np.atleast_2d(bad))"
   ]
  },
  {
   "cell_type": "markdown",
   "id": "998a6247",
   "metadata": {},
   "source": [
    "Engine recommendation"
   ]
  },
  {
   "cell_type": "code",
   "execution_count": 5,
   "id": "a8b4c39a",
   "metadata": {},
   "outputs": [],
   "source": [
    "def recommend_sampling_config(model):\n",
    "    import multiprocessing\n",
    "    import psutil\n",
    "\n",
    "    n_rxns = len(model.reactions)\n",
    "    cpu_cores = multiprocessing.cpu_count()\n",
    "    ram_gb = psutil.virtual_memory().total / 1e9\n",
    "\n",
    "    # Choose method\n",
    "    if n_rxns < 500:\n",
    "        method = \"achr\"\n",
    "    elif cpu_cores >= 4:\n",
    "        method = \"optgp\"\n",
    "    else:\n",
    "        method = \"achr\"\n",
    "\n",
    "    # Thinning logic\n",
    "    thinning = max(10, int(n_rxns / 5))\n",
    "    thinning = min(thinning, 500)  # cap for efficiency\n",
    "\n",
    "    # Processes (only for optgp)\n",
    "    processes = None\n",
    "    if method == \"optgp\":\n",
    "        if cpu_cores >= 8:\n",
    "            processes = cpu_cores // 2\n",
    "        elif cpu_cores >= 4:\n",
    "            processes = 2\n",
    "        else:\n",
    "            processes = 1\n",
    "        if ram_gb < 4:\n",
    "            processes = min(processes, 2)\n",
    "\n",
    "    return {\n",
    "        \"method\": method,\n",
    "        \"thinning\": thinning,\n",
    "        \"processes\": processes\n",
    "    }"
   ]
  },
  {
   "cell_type": "markdown",
   "id": "7470129f",
   "metadata": {},
   "source": [
    "Tools"
   ]
  },
  {
   "cell_type": "code",
   "execution_count": null,
   "id": "219ccdba",
   "metadata": {},
   "outputs": [],
   "source": [
    "import os\n",
    "def sample_metabolic_model(model, n_samples=1000):\n",
    "    \"\"\"\n",
    "    Samples a metabolic model given the number of samples.\n",
    "    \"\"\"\n",
    "    config = recommend_sampling_config(model)\n",
    "    if config[\"method\"] == \"achr\":\n",
    "        sampler = ACHRSampler(model, thinning=config[\"thinning\"])\n",
    "    else:\n",
    "        sampler = OptGPSampler(model, thinning=config[\"thinning\"], processes=config[\"processes\"])\n",
    "    output_dir = os.path.join(os.getcwd(), 'outputs/flux_sampling', 'flux_sampling_result.csv')\n",
    "    samples = sampler.sample(n_samples)\n",
    "    samples.to_csv(output_dir, index=False)\n",
    "    subset = samples.iloc[:5, :5]\n",
    "    return {\n",
    "        \"status\": \"success\",\n",
    "        \"n_samples\": n_samples,\n",
    "        \"method\": config[\"method\"],\n",
    "        \"thinning\": config[\"thinning\"],\n",
    "        \"processes\": config[\"processes\"],\n",
    "        \"save_path\": output_dir,\n",
    "        \"samples\": subset.to_dict(orient=\"records\")\n",
    "    }"
   ]
  },
  {
   "cell_type": "code",
   "execution_count": 19,
   "id": "f460aaf3",
   "metadata": {},
   "outputs": [
    {
     "data": {
      "text/plain": [
       "{'status': 'success',\n",
       " 'n_samples': 100,\n",
       " 'method': 'achr',\n",
       " 'thinning': 19,\n",
       " 'processes': None,\n",
       " 'save_path': 'e:\\\\INTERNSHIP\\\\IITM\\\\Agenti_AI_for_COBRA\\\\outputs/flux_sampling\\\\flux_sampling_result.csv',\n",
       " 'samples': [{'PFK': 11.706358484798232,\n",
       "   'PFL': 3.9450800224282765,\n",
       "   'PGI': 9.262693797787877,\n",
       "   'PGK': -19.55242666308508,\n",
       "   'PGL': 0.6166879028443322},\n",
       "  {'PFK': 11.434540491023906,\n",
       "   'PFL': 3.923164904782254,\n",
       "   'PGI': 8.623991459802802,\n",
       "   'PGK': -19.261735471079817,\n",
       "   'PGL': 1.2273377896202884},\n",
       "  {'PFK': 11.294957660820362,\n",
       "   'PFL': 3.868403557895533,\n",
       "   'PGI': 8.70418912244538,\n",
       "   'PGK': -19.51544120873183,\n",
       "   'PGL': 1.282597316368462},\n",
       "  {'PFK': 11.492479490620893,\n",
       "   'PFL': 3.989337813477387,\n",
       "   'PGI': 8.7054315595132,\n",
       "   'PGK': -19.518109890891107,\n",
       "   'PGL': 1.2809023424307147},\n",
       "  {'PFK': 10.246731218489147,\n",
       "   'PFL': 3.7011774516911067,\n",
       "   'PGI': 8.771747739099228,\n",
       "   'PGK': -19.380863553209778,\n",
       "   'PGL': 1.1355677583972799}]}"
      ]
     },
     "execution_count": 19,
     "metadata": {},
     "output_type": "execute_result"
    }
   ],
   "source": [
    "sample_metabolic_model(model, n_samples=100)"
   ]
  },
  {
   "cell_type": "code",
   "execution_count": 11,
   "id": "7ddff8a8",
   "metadata": {},
   "outputs": [
    {
     "name": "stdout",
     "output_type": "stream",
     "text": [
      "{'method': 'achr', 'thinning': 19, 'processes': None}\n"
     ]
    }
   ],
   "source": [
    "print(recommend_sampling_config(model))"
   ]
  },
  {
   "cell_type": "code",
   "execution_count": 21,
   "id": "15180696",
   "metadata": {},
   "outputs": [
    {
     "data": {
      "text/plain": [
       "(100, 95)"
      ]
     },
     "execution_count": 21,
     "metadata": {},
     "output_type": "execute_result"
    }
   ],
   "source": [
    "import pandas as pd\n",
    "file_path = r\"E:\\INTERNSHIP\\IITM\\Agenti_AI_for_COBRA\\outputs\\flux_sampling\\flux_sampling_result.csv\"\n",
    "pd.read_csv(file_path).shape"
   ]
  },
  {
   "cell_type": "markdown",
   "id": "15dda348",
   "metadata": {},
   "source": [
    "#### HE"
   ]
  },
  {
   "cell_type": "code",
   "execution_count": 22,
   "id": "1d7009ef",
   "metadata": {},
   "outputs": [
    {
     "name": "stdout",
     "output_type": "stream",
     "text": [
      "adhE\n",
      "mhpF\n",
      "s0001\n",
      "purT\n",
      "tdcD\n",
      "ackA\n",
      "acnA\n",
      "acnB\n",
      "adk\n",
      "lpd\n",
      "sucB\n",
      "sucA\n",
      "kgtP\n",
      "frmA\n",
      "adhP\n",
      "atpA\n",
      "atpG\n",
      "atpF\n",
      "atpE\n",
      "atpI\n",
      "atpB\n",
      "atpH\n",
      "atpC\n",
      "atpD\n",
      "gltA\n",
      "cydA\n",
      "cydB\n",
      "cbdB\n",
      "cbdA\n",
      "lldP\n",
      "glcA\n",
      "eno\n",
      "fbaA\n",
      "ydjI\n",
      "fbaB\n",
      "glpX\n",
      "fbp\n",
      "focB\n",
      "focA\n",
      "frdC\n",
      "frdA\n",
      "frdB\n",
      "frdD\n",
      "manZ\n",
      "manX\n",
      "ptsI\n",
      "ptsH\n",
      "manY\n",
      "fumC\n",
      "fumB\n",
      "fumA\n",
      "dctA\n",
      "zwf\n",
      "gapA\n",
      "ptsG\n",
      "crr\n",
      "malX\n",
      "puuA\n",
      "glnA\n",
      "glnQ\n",
      "glnH\n",
      "glnP\n",
      "gdhA\n",
      "glsB\n",
      "glsA\n",
      "pabB\n",
      "gltD\n",
      "gltB\n",
      "gltP\n",
      "gnd\n",
      "aqpZ\n",
      "icd\n",
      "aceA\n",
      "ldhA\n",
      "dld\n",
      "aceB\n",
      "glcB\n",
      "mdh\n",
      "maeA\n",
      "maeB\n",
      "nuoI\n",
      "nuoM\n",
      "nuoJ\n",
      "nuoC\n",
      "nuoB\n",
      "nuoF\n",
      "nuoN\n",
      "nuoH\n",
      "nuoK\n",
      "nuoG\n",
      "nuoE\n",
      "nuoA\n",
      "nuoL\n",
      "pntA\n",
      "sthA\n",
      "pntB\n",
      "amtB\n",
      "aceE\n",
      "aceF\n",
      "pfkA\n",
      "pfkB\n",
      "tdcE\n",
      "grcA\n",
      "pflD\n",
      "pflA\n",
      "pflC\n",
      "pflB\n",
      "pgi\n",
      "pgk\n",
      "pgl\n",
      "gpmM\n",
      "ytjC\n",
      "gpmA\n",
      "pitA\n",
      "pitB\n",
      "ppc\n",
      "pck\n",
      "ppsA\n",
      "pta\n",
      "eutD\n",
      "pykF\n",
      "pykA\n",
      "rpe\n",
      "sgcE\n",
      "rpiA\n",
      "rpiB\n",
      "sdhC\n",
      "sdhD\n",
      "sdhB\n",
      "sdhA\n",
      "sucD\n",
      "sucC\n",
      "talB\n",
      "talA\n",
      "tktB\n",
      "tktA\n",
      "tpiA\n"
     ]
    }
   ],
   "source": [
    "for i in model.genes:\n",
    "    print(i.name)"
   ]
  }
 ],
 "metadata": {
  "kernelspec": {
   "display_name": "mecha",
   "language": "python",
   "name": "python3"
  },
  "language_info": {
   "codemirror_mode": {
    "name": "ipython",
    "version": 3
   },
   "file_extension": ".py",
   "mimetype": "text/x-python",
   "name": "python",
   "nbconvert_exporter": "python",
   "pygments_lexer": "ipython3",
   "version": "3.10.16"
  }
 },
 "nbformat": 4,
 "nbformat_minor": 5
}
